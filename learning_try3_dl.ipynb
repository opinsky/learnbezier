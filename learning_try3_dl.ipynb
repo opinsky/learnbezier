{
 "cells": [
  {
   "cell_type": "code",
   "execution_count": 1,
   "metadata": {},
   "outputs": [],
   "source": [
    "# this program has the following structure:\n",
    "# input = 100 pairs of x-y points\n",
    "# output = 8 pairs of x-y that are the control points of a bezier curve"
   ]
  },
  {
   "cell_type": "code",
   "execution_count": 2,
   "metadata": {},
   "outputs": [],
   "source": [
    "%matplotlib inline\n",
    "from geomdl import BSpline\n",
    "from geomdl import utilities\n",
    "\n",
    "import tensorflow as tf\n",
    "from tensorflow import keras\n",
    "from tensorflow.keras import layers\n",
    "\n",
    "import random\n",
    "import numpy as np\n",
    "tf.enable_eager_execution()"
   ]
  },
  {
   "cell_type": "code",
   "execution_count": 3,
   "metadata": {},
   "outputs": [],
   "source": [
    "# those are utilities to generate the training data\n",
    "n_evalpts = 100\n",
    "def evalpts(ctrlpts):\n",
    "    c = BSpline.Curve()\n",
    "    c.degree = 2\n",
    "    c.ctrlpts = ctrlpts\n",
    "    c.delta = 1/(n_evalpts-0.5)\n",
    "    c.knotvector = utilities.generate_knot_vector(c.degree, len(c.ctrlpts))\n",
    "    c.render\n",
    "    return c.evalpts\n",
    "\n",
    "def mevalpts(ctrlptslist):\n",
    "    evalptslist=[]\n",
    "    for i in range(len(ctrlptslist)):\n",
    "        evalptslist.append(evalpts(ctrlptslist[i]))\n",
    "    return evalptslist\n",
    " \n",
    "#curve = evalpts([[5.0, 10.0], [15.0, 25.0], [30.0, 30.0], [45.0, 5.0], [55.0, 5.0],\n",
    "#                 [70.0, 40.0], [60.0, 60.0], [35.0, 60.0]])"
   ]
  },
  {
   "cell_type": "code",
   "execution_count": 4,
   "metadata": {
    "scrolled": true
   },
   "outputs": [
    {
     "name": "stdout",
     "output_type": "stream",
     "text": [
      "(30000, 100, 2)\n",
      "(30000, 8, 2)\n"
     ]
    }
   ],
   "source": [
    "#generate X samples of inputs (100 pairs of points) and outputs (8 pairs)\n",
    "NUM_SAMPLES = 30000\n",
    "outputs = tf.random_uniform(shape=[NUM_SAMPLES, 8,2], maxval=5)\n",
    "inputs = np.array(mevalpts(outputs.numpy().tolist())) #shape [n_evalpts,2]\n",
    "#inputs = tf.Variable(mevalpts(outputs.numpy().tolist()))\n",
    "print(inputs.shape)\n",
    "print(outputs.shape)"
   ]
  },
  {
   "cell_type": "code",
   "execution_count": 5,
   "metadata": {},
   "outputs": [],
   "source": [
    "def model():\n",
    "    model = keras.Sequential([\n",
    "        layers.Flatten(input_shape=(n_evalpts,2)),\n",
    "        layers.Dense(256, activation=tf.nn.relu),\n",
    "        layers.Dense(128, activation=tf.nn.relu),\n",
    "        layers.Dense(64, activation=tf.nn.relu),\n",
    "        layers.Dense(32, activation=tf.nn.relu),\n",
    "        layers.Dense(16)\n",
    "    ])\n",
    "    #optimizer = tf.keras.optimizers.RMSprop(0.001)\n",
    "    optimizer = tf.keras.optimizers.Adam()\n",
    "    model.compile(\n",
    "                  loss=\"mean_squared_error\",\n",
    "                  #loss=loss,  #'mean_squared_error',\n",
    "                  optimizer=optimizer,\n",
    "                  metrics=['mean_absolute_error', 'mean_squared_error'])\n",
    "    return model"
   ]
  },
  {
   "cell_type": "code",
   "execution_count": 6,
   "metadata": {},
   "outputs": [],
   "source": [
    "def loss(predicted_evalpts, desired_evalpts):\n",
    "    return tf.reduce_mean(tf.square(predicted_evalpts - desired_evalpts))"
   ]
  },
  {
   "cell_type": "code",
   "execution_count": 7,
   "metadata": {},
   "outputs": [
    {
     "name": "stdout",
     "output_type": "stream",
     "text": [
      "WARNING:tensorflow:From /usr/local/lib/python3.7/site-packages/tensorflow/python/ops/resource_variable_ops.py:642: colocate_with (from tensorflow.python.framework.ops) is deprecated and will be removed in a future version.\n",
      "Instructions for updating:\n",
      "Colocations handled automatically by placer.\n",
      "WARNING:tensorflow:From /usr/local/lib/python3.7/site-packages/tensorflow/python/keras/utils/losses_utils.py:170: to_float (from tensorflow.python.ops.math_ops) is deprecated and will be removed in a future version.\n",
      "Instructions for updating:\n",
      "Use tf.cast instead.\n",
      "_________________________________________________________________\n",
      "Layer (type)                 Output Shape              Param #   \n",
      "=================================================================\n",
      "flatten (Flatten)            (None, 200)               0         \n",
      "_________________________________________________________________\n",
      "dense (Dense)                (None, 256)               51456     \n",
      "_________________________________________________________________\n",
      "dense_1 (Dense)              (None, 128)               32896     \n",
      "_________________________________________________________________\n",
      "dense_2 (Dense)              (None, 64)                8256      \n",
      "_________________________________________________________________\n",
      "dense_3 (Dense)              (None, 32)                2080      \n",
      "_________________________________________________________________\n",
      "dense_4 (Dense)              (None, 16)                528       \n",
      "=================================================================\n",
      "Total params: 95,216\n",
      "Trainable params: 95,216\n",
      "Non-trainable params: 0\n",
      "_________________________________________________________________\n"
     ]
    }
   ],
   "source": [
    "model = model()\n",
    "model.summary()"
   ]
  },
  {
   "cell_type": "code",
   "execution_count": 8,
   "metadata": {},
   "outputs": [
    {
     "data": {
      "text/plain": [
       "<tf.Tensor: id=3194, shape=(), dtype=float32, numpy=9.314837>"
      ]
     },
     "execution_count": 8,
     "metadata": {},
     "output_type": "execute_result"
    }
   ],
   "source": [
    "loss(outputs,np.reshape(model.predict(np.array(inputs)),(NUM_SAMPLES,8,2)))"
   ]
  },
  {
   "cell_type": "code",
   "execution_count": 10,
   "metadata": {},
   "outputs": [
    {
     "name": "stdout",
     "output_type": "stream",
     "text": [
      "WARNING:tensorflow:From /usr/local/lib/python3.7/site-packages/tensorflow/python/ops/math_ops.py:3066: to_int32 (from tensorflow.python.ops.math_ops) is deprecated and will be removed in a future version.\n",
      "Instructions for updating:\n",
      "Use tf.cast instead.\n",
      "loss: 0.318343, val_loss: 0.013842\n",
      "\n",
      "..................................................loss: 0.001935, val_loss: 0.000769\n",
      "\n",
      "..................................................loss: 0.001428, val_loss: 0.000499\n",
      "\n",
      "..................................................loss: 0.001027, val_loss: 0.000866\n",
      "\n",
      "..................................................loss: 0.000911, val_loss: 0.000745\n",
      "\n",
      "..................................................loss: 0.000804, val_loss: 0.000476\n",
      "\n",
      "..................................................loss: 0.000716, val_loss: 0.003416\n",
      "\n",
      "..................................................loss: 0.000672, val_loss: 0.000689\n",
      "\n",
      "..................................................loss: 0.000617, val_loss: 0.000455\n",
      "\n",
      "..................................................loss: 0.000594, val_loss: 0.000579\n",
      "\n",
      "..................................................loss: 0.000592, val_loss: 0.000223\n",
      "\n",
      "..................................................loss: 0.000489, val_loss: 0.002798\n",
      "\n",
      "..................................................loss: 0.000511, val_loss: 0.000344\n",
      "\n",
      "..................................................loss: 0.000453, val_loss: 0.001371\n",
      "\n",
      "..................................................loss: 0.000448, val_loss: 0.000582\n",
      "\n",
      "..................................................loss: 0.000447, val_loss: 0.000622\n",
      "\n",
      "..................................................loss: 0.000443, val_loss: 0.000235\n",
      "\n",
      "..................................................loss: 0.000408, val_loss: 0.000175\n",
      "\n",
      "..................................................loss: 0.000454, val_loss: 0.000313\n",
      "\n",
      "..................................................loss: 0.000398, val_loss: 0.000937\n",
      "\n",
      "..................................................loss: 0.000396, val_loss: 0.000130\n",
      "\n",
      "..................................................loss: 0.000354, val_loss: 0.000269\n",
      "\n",
      "..................................................loss: 0.000363, val_loss: 0.000428\n",
      "\n",
      "..................................................loss: 0.000340, val_loss: 0.000595\n",
      "\n",
      "..................................................loss: 0.000341, val_loss: 0.000324\n",
      "\n",
      "..................................................loss: 0.000351, val_loss: 0.000372\n",
      "\n",
      "..................................................loss: 0.000309, val_loss: 0.000525\n",
      "\n",
      "..................................................loss: 0.000346, val_loss: 0.000194\n",
      "\n",
      "..................................................loss: 0.000330, val_loss: 0.000134\n",
      "\n",
      "..................................................loss: 0.000302, val_loss: 0.000219\n",
      "\n",
      "..................................................loss: 0.000321, val_loss: 0.000917\n",
      "\n",
      "..................................................loss: 0.000290, val_loss: 0.000894\n",
      "\n",
      "..................................................loss: 0.000299, val_loss: 0.001192\n",
      "\n",
      "..................................................loss: 0.000257, val_loss: 0.000377\n",
      "\n",
      "..................................................loss: 0.000278, val_loss: 0.000433\n",
      "\n",
      "..................................................loss: 0.000331, val_loss: 0.001311\n",
      "\n",
      "..................................................loss: 0.000311, val_loss: 0.000221\n",
      "\n",
      "..................................................loss: 0.000287, val_loss: 0.000483\n",
      "\n",
      "..................................................loss: 0.000225, val_loss: 0.000127\n",
      "\n",
      "..................................................loss: 0.000223, val_loss: 0.000337\n",
      "\n",
      "..................................................loss: 0.000267, val_loss: 0.000191\n",
      "\n",
      "..................................................loss: 0.000246, val_loss: 0.000303\n",
      "\n",
      "..................................................loss: 0.000254, val_loss: 0.000179\n",
      "\n",
      "..................................................loss: 0.000230, val_loss: 0.000137\n",
      "\n",
      "..................................................loss: 0.000275, val_loss: 0.000365\n",
      "\n",
      "..................................................loss: 0.000240, val_loss: 0.002830\n",
      "\n",
      "..................................................loss: 0.000261, val_loss: 0.000062\n",
      "\n",
      "..................................................loss: 0.000208, val_loss: 0.000136\n",
      "\n",
      "..................................................loss: 0.000217, val_loss: 0.000105\n",
      "\n",
      "..................................................loss: 0.000236, val_loss: 0.000169\n",
      "\n",
      "..................................................loss: 0.000258, val_loss: 0.000089\n",
      "\n",
      "..................................................loss: 0.000251, val_loss: 0.000063\n",
      "\n",
      "..................................................loss: 0.000273, val_loss: 0.000239\n",
      "\n",
      "..................................................loss: 0.000199, val_loss: 0.000150\n",
      "\n",
      "..................................................loss: 0.000207, val_loss: 0.000189\n",
      "\n",
      "..................................................loss: 0.000186, val_loss: 0.000089\n",
      "\n",
      "..................................................loss: 0.000208, val_loss: 0.000268\n",
      "\n",
      "..................................................loss: 0.000213, val_loss: 0.000219\n",
      "\n",
      "..................................................loss: 0.000202, val_loss: 0.000153\n",
      "\n",
      "..................................................loss: 0.000181, val_loss: 0.000367\n",
      "\n",
      "..................................................loss: 0.000169, val_loss: 0.000218\n",
      "\n",
      "..................................................loss: 0.000190, val_loss: 0.000955\n",
      "\n",
      "..................................................loss: 0.000166, val_loss: 0.000205\n",
      "\n",
      "..................................................loss: 0.000184, val_loss: 0.000403\n",
      "\n",
      "..................................................loss: 0.000200, val_loss: 0.000281\n",
      "\n",
      "..................................................loss: 0.000195, val_loss: 0.000073\n",
      "\n",
      "..................................................loss: 0.000190, val_loss: 0.000084\n",
      "\n",
      "..................................................loss: 0.000165, val_loss: 0.000339\n",
      "\n",
      "..................................................loss: 0.000183, val_loss: 0.000182\n",
      "\n",
      "..................................................loss: 0.000190, val_loss: 0.000361\n",
      "\n",
      "..................................................loss: 0.000182, val_loss: 0.000545\n",
      "\n",
      "..................................................loss: 0.000173, val_loss: 0.001924\n",
      "\n",
      "..................................................loss: 0.000187, val_loss: 0.000075\n",
      "\n",
      "..................................................loss: 0.000192, val_loss: 0.000054\n",
      "\n",
      "..................................................loss: 0.000166, val_loss: 0.000066\n",
      "\n",
      "..................................................loss: 0.000158, val_loss: 0.000446\n",
      "\n",
      "..................................................loss: 0.000171, val_loss: 0.000057\n",
      "\n",
      "..................................................loss: 0.000159, val_loss: 0.000043\n",
      "\n",
      "..................................................loss: 0.000200, val_loss: 0.000255\n",
      "\n",
      "..................................................loss: 0.000177, val_loss: 0.000106\n",
      "\n",
      "..................................................loss: 0.000201, val_loss: 0.000550\n",
      "\n",
      "..................................................loss: 0.000177, val_loss: 0.000352\n",
      "\n",
      "..................................................loss: 0.000166, val_loss: 0.000167\n",
      "\n",
      "..................................................loss: 0.000160, val_loss: 0.000053\n",
      "\n",
      "..................................................loss: 0.000160, val_loss: 0.000079\n",
      "\n",
      "..................................................loss: 0.000169, val_loss: 0.000432\n",
      "\n",
      "..................................................loss: 0.000136, val_loss: 0.000405\n",
      "\n",
      "..................................................loss: 0.000168, val_loss: 0.000058\n",
      "\n",
      "..................................................loss: 0.000186, val_loss: 0.000102\n",
      "\n",
      "..................................................loss: 0.000152, val_loss: 0.000054\n",
      "\n",
      "..................................................loss: 0.000163, val_loss: 0.000218\n",
      "\n",
      "..................................................loss: 0.000166, val_loss: 0.000042\n",
      "\n",
      "..................................................loss: 0.000142, val_loss: 0.000141\n",
      "\n"
     ]
    },
    {
     "name": "stdout",
     "output_type": "stream",
     "text": [
      "..................................................loss: 0.000158, val_loss: 0.000365\n",
      "\n",
      "..................................................loss: 0.000134, val_loss: 0.000308\n",
      "\n",
      "..................................................loss: 0.000151, val_loss: 0.000078\n",
      "\n",
      "..................................................loss: 0.000179, val_loss: 0.000144\n",
      "\n",
      "..................................................loss: 0.000169, val_loss: 0.000305\n",
      "\n",
      "..................................................loss: 0.000160, val_loss: 0.000085\n",
      "\n",
      "..................................................loss: 0.000153, val_loss: 0.000092\n",
      "\n",
      ".................................................."
     ]
    }
   ],
   "source": [
    "# Display training progress by printing a single dot for each completed epoch\n",
    "class PrintDot(keras.callbacks.Callback):\n",
    "    def on_epoch_end(self, epoch, logs):\n",
    "        if epoch % 50 == 0:\n",
    "            print (\"loss: %.6f, val_loss: %.6f\" % (logs[\"loss\"], logs[\"val_loss\"]))\n",
    "            print('')\n",
    "        print('.', end='')\n",
    "    #def on_train_end(self, logs):\n",
    "    #    print (logs[\"loss\"])\n",
    "\n",
    "EPOCHS = 5000\n",
    "history = model.fit(\n",
    "    inputs,\n",
    "    np.reshape(outputs,(NUM_SAMPLES,16)),\n",
    "    epochs=EPOCHS,\n",
    "    validation_split = 0.05,\n",
    "    verbose=0,\n",
    "    callbacks=[PrintDot()]\n",
    "  )"
   ]
  },
  {
   "cell_type": "code",
   "execution_count": 14,
   "metadata": {},
   "outputs": [
    {
     "data": {
      "text/plain": [
       "<matplotlib.collections.PathCollection at 0x1350736d8>"
      ]
     },
     "execution_count": 14,
     "metadata": {},
     "output_type": "execute_result"
    },
    {
     "data": {
      "image/png": "[encoded data removed]",
      "text/plain": [
       "<Figure size 432x288 with 1 Axes>"
      ]
     },
     "metadata": {
      "needs_background": "light"
     },
     "output_type": "display_data"
    }
   ],
   "source": [
    "from matplotlib import pyplot as plt\n",
    "w = tf.random_uniform(shape=[8,2], maxval=15)\n",
    "i = evalpts(np.asarray(w).tolist())\n",
    "x, y = np.asarray(i).T\n",
    "o = evalpts(np.reshape(model.predict(np.reshape(np.asarray(i),(1,n_evalpts,2))),(8,2)).tolist())\n",
    "a, b = np.asarray(o).T\n",
    "plt.scatter(x,y, c=\"b\")\n",
    "plt.scatter(a,b, c=\"r\")"
   ]
  },
  {
   "cell_type": "code",
   "execution_count": null,
   "metadata": {},
   "outputs": [],
   "source": [
    "#model.save_weights(\"./beziermodelweights\")"
   ]
  },
  {
   "cell_type": "code",
   "execution_count": null,
   "metadata": {},
   "outputs": [],
   "source": []
  },
  {
   "cell_type": "code",
   "execution_count": null,
   "metadata": {},
   "outputs": [],
   "source": []
  }
 ],
 "metadata": {
  "kernelspec": {
   "display_name": "Python 3",
   "language": "python",
   "name": "python3"
  },
  "language_info": {
   "codemirror_mode": {
    "name": "ipython",
    "version": 3
   },
   "file_extension": ".py",
   "mimetype": "text/x-python",
   "name": "python",
   "nbconvert_exporter": "python",
   "pygments_lexer": "ipython3",
   "version": "3.7.3"
  }
 },
 "nbformat": 4,
 "nbformat_minor": 2
}
