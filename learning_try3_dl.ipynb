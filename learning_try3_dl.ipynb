{
  "nbformat": 4,
  "nbformat_minor": 0,
  "metadata": {
    "colab": {
      "name": "learning_try3_dl.ipynb",
      "version": "0.3.2",
      "provenance": [],
      "include_colab_link": true
    },
    "language_info": {
      "codemirror_mode": {
        "name": "ipython",
        "version": 3
      },
      "file_extension": ".py",
      "mimetype": "text/x-python",
      "name": "python",
      "nbconvert_exporter": "python",
      "pygments_lexer": "ipython3",
      "version": "3.7.3"
    },
    "kernelspec": {
      "display_name": "Python 3",
      "language": "python",
      "name": "python3"
    }
  },
  "cells": [
    {
      "cell_type": "markdown",
      "metadata": {
        "id": "view-in-github",
        "colab_type": "text"
      },
      "source": [
        "<a href=\"https://colab.research.google.com/github/opinsky/learnbezier/blob/master/learning_try3_dl.ipynb\" target=\"_parent\"><img src=\"https://colab.research.google.com/assets/colab-badge.svg\" alt=\"Open In Colab\"/></a>"
      ]
    },
    {
      "cell_type": "code",
      "metadata": {
        "id": "EgYPFwNLXjV_",
        "colab_type": "code",
        "colab": {
          "base_uri": "https://localhost:8080/",
          "height": 122
        },
        "outputId": "d79ecdce-b2a0-448a-f01b-44e349483a4a"
      },
      "source": [
        "# this program has the following structure:\n",
        "# input = 100 pairs of x-y points\n",
        "# output = 8 pairs of x-y that are the control points of a bezier curve\n",
        "!pip install geomdl"
      ],
      "execution_count": 1,
      "outputs": [
        {
          "output_type": "stream",
          "text": [
            "Collecting geomdl\n",
            "\u001b[?25l  Downloading https://files.pythonhosted.org/packages/97/c8/ff1bec044f097914cf37fff6d02589468fb53fdbf25c772a4cf879f000aa/geomdl-5.2.4-py2.py3-none-any.whl (140kB)\n",
            "\u001b[K     |████████████████████████████████| 143kB 4.1MB/s \n",
            "\u001b[?25hInstalling collected packages: geomdl\n",
            "Successfully installed geomdl-5.2.4\n"
          ],
          "name": "stdout"
        }
      ]
    },
    {
      "cell_type": "code",
      "metadata": {
        "id": "R2cX_KO5XjWB",
        "colab_type": "code",
        "colab": {}
      },
      "source": [
        "%matplotlib inline\n",
        "from geomdl import BSpline\n",
        "from geomdl import utilities\n",
        "\n",
        "import tensorflow as tf\n",
        "from tensorflow import keras\n",
        "from tensorflow.keras import layers\n",
        "\n",
        "import random\n",
        "import numpy as np\n",
        "tf.enable_eager_execution()"
      ],
      "execution_count": 0,
      "outputs": []
    },
    {
      "cell_type": "code",
      "metadata": {
        "id": "JN4WwylpXjWC",
        "colab_type": "code",
        "colab": {}
      },
      "source": [
        "# those are utilities to generate the training data\n",
        "n_evalpts = 100\n",
        "def evalpts(ctrlpts):\n",
        "    c = BSpline.Curve()\n",
        "    c.degree = 2\n",
        "    c.ctrlpts = ctrlpts\n",
        "    c.delta = 1/(n_evalpts-0.5)\n",
        "    c.knotvector = utilities.generate_knot_vector(c.degree, len(c.ctrlpts))\n",
        "    c.render\n",
        "    return c.evalpts\n",
        "\n",
        "def mevalpts(ctrlptslist):\n",
        "    evalptslist=[]\n",
        "    for i in range(len(ctrlptslist)):\n",
        "        evalptslist.append(evalpts(ctrlptslist[i]))\n",
        "    return evalptslist\n",
        " \n",
        "#curve = evalpts([[5.0, 10.0], [15.0, 25.0], [30.0, 30.0], [45.0, 5.0], [55.0, 5.0],\n",
        "#                 [70.0, 40.0], [60.0, 60.0], [35.0, 60.0]])"
      ],
      "execution_count": 0,
      "outputs": []
    },
    {
      "cell_type": "code",
      "metadata": {
        "scrolled": true,
        "id": "Qn3b5QXiXjWE",
        "colab_type": "code",
        "colab": {
          "base_uri": "https://localhost:8080/",
          "height": 51
        },
        "outputId": "13acc17c-312c-484a-adf0-79a5f1da178e"
      },
      "source": [
        "#generate X samples of inputs (100 pairs of points) and outputs (8 pairs)\n",
        "NUM_SAMPLES = 30000\n",
        "outputs = tf.random_uniform(shape=[NUM_SAMPLES, 8,2], maxval=5)\n",
        "inputs = np.array(mevalpts(outputs.numpy().tolist())) #shape [n_evalpts,2]\n",
        "#inputs = tf.Variable(mevalpts(outputs.numpy().tolist()))\n",
        "print(inputs.shape)\n",
        "print(outputs.shape)"
      ],
      "execution_count": 4,
      "outputs": [
        {
          "output_type": "stream",
          "text": [
            "(30000, 100, 2)\n",
            "(30000, 8, 2)\n"
          ],
          "name": "stdout"
        }
      ]
    },
    {
      "cell_type": "code",
      "metadata": {
        "id": "iq-8ocv9XjWH",
        "colab_type": "code",
        "colab": {}
      },
      "source": [
        "def model():\n",
        "    model = keras.Sequential([\n",
        "        layers.Flatten(input_shape=(n_evalpts,2)),\n",
        "        layers.Dense(256, activation=tf.nn.relu),\n",
        "        layers.Dense(128, activation=tf.nn.relu),\n",
        "        layers.Dense(64, activation=tf.nn.relu),\n",
        "        layers.Dense(32, activation=tf.nn.relu),\n",
        "        layers.Dense(16)\n",
        "    ])\n",
        "    #optimizer = tf.keras.optimizers.RMSprop(0.001)\n",
        "    optimizer = tf.keras.optimizers.Adam()\n",
        "    model.compile(\n",
        "                  loss=\"mean_squared_error\",\n",
        "                  #loss=loss,  #'mean_squared_error',\n",
        "                  optimizer=optimizer,\n",
        "                  metrics=['mean_absolute_error', 'mean_squared_error'])\n",
        "    return model"
      ],
      "execution_count": 0,
      "outputs": []
    },
    {
      "cell_type": "code",
      "metadata": {
        "id": "DITPyeF6XjWI",
        "colab_type": "code",
        "colab": {}
      },
      "source": [
        "def loss(predicted_evalpts, desired_evalpts):\n",
        "    return tf.reduce_mean(tf.square(predicted_evalpts - desired_evalpts))"
      ],
      "execution_count": 0,
      "outputs": []
    },
    {
      "cell_type": "code",
      "metadata": {
        "id": "cWNDU7tGXjWL",
        "colab_type": "code",
        "colab": {
          "base_uri": "https://localhost:8080/",
          "height": 462
        },
        "outputId": "55fa7722-3584-41be-b18d-963c70e375ea"
      },
      "source": [
        "model = model()\n",
        "model.summary()"
      ],
      "execution_count": 7,
      "outputs": [
        {
          "output_type": "stream",
          "text": [
            "WARNING:tensorflow:From /usr/local/lib/python3.6/dist-packages/tensorflow/python/ops/resource_variable_ops.py:642: colocate_with (from tensorflow.python.framework.ops) is deprecated and will be removed in a future version.\n",
            "Instructions for updating:\n",
            "Colocations handled automatically by placer.\n",
            "WARNING:tensorflow:From /usr/local/lib/python3.6/dist-packages/tensorflow/python/keras/utils/losses_utils.py:170: to_float (from tensorflow.python.ops.math_ops) is deprecated and will be removed in a future version.\n",
            "Instructions for updating:\n",
            "Use tf.cast instead.\n",
            "_________________________________________________________________\n",
            "Layer (type)                 Output Shape              Param #   \n",
            "=================================================================\n",
            "flatten (Flatten)            (None, 200)               0         \n",
            "_________________________________________________________________\n",
            "dense (Dense)                (None, 256)               51456     \n",
            "_________________________________________________________________\n",
            "dense_1 (Dense)              (None, 128)               32896     \n",
            "_________________________________________________________________\n",
            "dense_2 (Dense)              (None, 64)                8256      \n",
            "_________________________________________________________________\n",
            "dense_3 (Dense)              (None, 32)                2080      \n",
            "_________________________________________________________________\n",
            "dense_4 (Dense)              (None, 16)                528       \n",
            "=================================================================\n",
            "Total params: 95,216\n",
            "Trainable params: 95,216\n",
            "Non-trainable params: 0\n",
            "_________________________________________________________________\n"
          ],
          "name": "stdout"
        }
      ]
    },
    {
      "cell_type": "code",
      "metadata": {
        "id": "ocrvRJ1DXjWN",
        "colab_type": "code",
        "colab": {
          "base_uri": "https://localhost:8080/",
          "height": 34
        },
        "outputId": "29f1ff72-6fc0-47eb-d047-ee727f7abc82"
      },
      "source": [
        "loss(outputs,np.reshape(model.predict(np.array(inputs)),(NUM_SAMPLES,8,2)))"
      ],
      "execution_count": 8,
      "outputs": [
        {
          "output_type": "execute_result",
          "data": {
            "text/plain": [
              "<tf.Tensor: id=3194, shape=(), dtype=float32, numpy=10.586954>"
            ]
          },
          "metadata": {
            "tags": []
          },
          "execution_count": 8
        }
      ]
    },
    {
      "cell_type": "code",
      "metadata": {
        "id": "tpblyLveXjWP",
        "colab_type": "code",
        "colab": {
          "base_uri": "https://localhost:8080/",
          "height": 1431
        },
        "outputId": "0d0f646f-6407-4cf0-fd65-cb6d0945c017"
      },
      "source": [
        "# Display training progress by printing a single dot for each completed epoch\n",
        "class PrintDot(keras.callbacks.Callback):\n",
        "    def on_epoch_end(self, epoch, logs):\n",
        "        if epoch % 50 == 0:\n",
        "            print (\"loss: %.6f, val_loss: %.6f\" % (logs[\"loss\"], logs[\"val_loss\"]))\n",
        "            print('')\n",
        "        print('.', end='')\n",
        "    #def on_train_end(self, logs):\n",
        "    #    print (logs[\"loss\"])\n",
        "\n",
        "EPOCHS = 5000\n",
        "history = model.fit(\n",
        "    inputs,\n",
        "    np.reshape(outputs,(NUM_SAMPLES,16)),\n",
        "    epochs=EPOCHS,\n",
        "    validation_split = 0.05,\n",
        "    verbose=0,\n",
        "    callbacks=[PrintDot()]\n",
        "  )"
      ],
      "execution_count": 0,
      "outputs": [
        {
          "output_type": "stream",
          "text": [
            "WARNING:tensorflow:From /usr/local/lib/python3.6/dist-packages/tensorflow/python/ops/math_ops.py:3066: to_int32 (from tensorflow.python.ops.math_ops) is deprecated and will be removed in a future version.\n",
            "Instructions for updating:\n",
            "Use tf.cast instead.\n",
            "loss: 0.854517, val_loss: 0.484542\n",
            "\n",
            "..................................................loss: 0.254993, val_loss: 0.266337\n",
            "\n",
            "..................................................loss: 0.253879, val_loss: 0.262205\n",
            "\n",
            "..................................................loss: 0.253476, val_loss: 0.265879\n",
            "\n",
            "..................................................loss: 0.253143, val_loss: 0.263270\n",
            "\n",
            "..................................................loss: 0.253042, val_loss: 0.268867\n",
            "\n",
            "..................................................loss: 0.252892, val_loss: 0.263753\n",
            "\n",
            "..................................................loss: 0.252533, val_loss: 0.264874\n",
            "\n",
            "..................................................loss: 0.252496, val_loss: 0.266424\n",
            "\n",
            "..................................................loss: 0.252252, val_loss: 0.263803\n",
            "\n",
            "..................................................loss: 0.252301, val_loss: 0.263531\n",
            "\n",
            "..................................................loss: 0.252149, val_loss: 0.264244\n",
            "\n",
            "..................................................loss: 0.252105, val_loss: 0.264513\n",
            "\n",
            "..................................................loss: 0.252124, val_loss: 0.264508\n",
            "\n",
            "..................................................loss: 0.252014, val_loss: 0.263966\n",
            "\n",
            "..................................................loss: 0.126003, val_loss: 0.134242\n",
            "\n",
            "..................................................loss: 0.125852, val_loss: 0.132913\n",
            "\n",
            "..................................................loss: 0.000652, val_loss: 0.002428\n",
            "\n",
            "..................................................loss: 0.000541, val_loss: 0.000335\n",
            "\n",
            "..................................................loss: 0.000541, val_loss: 0.000506\n",
            "\n",
            "..................................................loss: 0.000442, val_loss: 0.000469\n",
            "\n",
            "..................................................loss: 0.000459, val_loss: 0.002025\n",
            "\n",
            "..................................................loss: 0.000403, val_loss: 0.000594\n",
            "\n",
            "..................................................loss: 0.000408, val_loss: 0.001268\n",
            "\n",
            "..................................................loss: 0.000418, val_loss: 0.000450\n",
            "\n",
            "..................................................loss: 0.000375, val_loss: 0.000294\n",
            "\n",
            "..................................................loss: 0.000362, val_loss: 0.000589\n",
            "\n",
            "..................................................loss: 0.000361, val_loss: 0.000228\n",
            "\n",
            "..................................................loss: 0.000365, val_loss: 0.000172\n",
            "\n",
            "..................................................loss: 0.000341, val_loss: 0.000195\n",
            "\n",
            "..................................................loss: 0.000336, val_loss: 0.000248\n",
            "\n",
            "..................................................loss: 0.000292, val_loss: 0.000307\n",
            "\n",
            "..................................................loss: 0.000320, val_loss: 0.000846\n",
            "\n",
            "..................................................loss: 0.000305, val_loss: 0.000909\n",
            "\n",
            "..................................................loss: 0.000345, val_loss: 0.000518\n",
            "\n",
            "..................................................loss: 0.000274, val_loss: 0.000142\n",
            "\n",
            "..................................................loss: 0.000326, val_loss: 0.000225\n",
            "\n",
            "..................................................loss: 0.000302, val_loss: 0.000781\n",
            "\n",
            "..................................................loss: 0.000255, val_loss: 0.000125\n",
            "\n",
            ".............................................."
          ],
          "name": "stdout"
        }
      ]
    },
    {
      "cell_type": "code",
      "metadata": {
        "id": "o0b5ryoMXjWR",
        "colab_type": "code",
        "colab": {}
      },
      "source": [
        "from matplotlib import pyplot as plt\n",
        "w = tf.random_uniform(shape=[8,2], maxval=15)\n",
        "i = evalpts(np.asarray(w).tolist())\n",
        "x, y = np.asarray(i).T\n",
        "o = evalpts(np.reshape(model.predict(np.reshape(np.asarray(i),(1,n_evalpts,2))),(8,2)).tolist())\n",
        "a, b = np.asarray(o).T\n",
        "plt.scatter(x,y, c=\"b\")\n",
        "plt.scatter(a,b, c=\"r\")"
      ],
      "execution_count": 0,
      "outputs": []
    },
    {
      "cell_type": "code",
      "metadata": {
        "id": "0l_nsxk1XjWS",
        "colab_type": "code",
        "colab": {}
      },
      "source": [
        "#model.save_weights(\"./beziermodelweights\")"
      ],
      "execution_count": 0,
      "outputs": []
    },
    {
      "cell_type": "code",
      "metadata": {
        "id": "sCMV7R7aXjWU",
        "colab_type": "code",
        "colab": {}
      },
      "source": [
        ""
      ],
      "execution_count": 0,
      "outputs": []
    },
    {
      "cell_type": "code",
      "metadata": {
        "id": "k2u3BVvpXjWV",
        "colab_type": "code",
        "colab": {}
      },
      "source": [
        ""
      ],
      "execution_count": 0,
      "outputs": []
    }
  ]
}